{
  "nbformat": 4,
  "nbformat_minor": 0,
  "metadata": {
    "colab": {
      "name": "Test_model.ipynb",
      "provenance": [],
      "collapsed_sections": []
    },
    "kernelspec": {
      "name": "python3",
      "display_name": "Python 3"
    }
  },
  "cells": [
    {
      "cell_type": "code",
      "metadata": {
        "id": "Pl9l93rCUxRl",
        "colab_type": "code",
        "colab": {}
      },
      "source": [
        "import os\n",
        "import pickle\n",
        "import numpy as np\n",
        "import pandas as pd\n",
        "import glob\n",
        "import matplotlib.pyplot as plt\n",
        "import seaborn as sns\n",
        "import keras\n",
        "from PIL import Image as pil_image\n",
        "sns.set_style('white')\n",
        "%matplotlib inline\n",
        "\n",
        "from keras.applications.mobilenet import MobileNet\n",
        "#, relu6, DepthwiseConv2D\n",
        "from keras.preprocessing import image\n",
        "from keras.layers import AveragePooling2D, Conv2D, UpSampling2D, DepthwiseConv2D\n",
        "from keras.models import load_model, Model\n",
        "#from utils.keras_utils import preprocess_input_tf, center_crop\n",
        "from keras.utils.generic_utils import CustomObjectScope\n",
        "import itertools\n",
        "from collections import Counter\n",
        "from sklearn.utils import shuffle\n",
        "from sklearn.metrics import accuracy_score, confusion_matrix, cohen_kappa_score"
      ],
      "execution_count": 0,
      "outputs": []
    },
    {
      "cell_type": "code",
      "metadata": {
        "id": "MNAe_sq7XG5R",
        "colab_type": "code",
        "colab": {}
      },
      "source": [
        "def plot_confusion_matrix(cm, classes, figname=None, normalize=False, title=None, cmap=plt.cm.Blues):\n",
        "    \"\"\"\n",
        "    This function prints and plots the confusion matrix.\n",
        "    Normalization can be applied by setting `normalize=True`.\n",
        "    (This function is copied from the scikit docs.)\n",
        "    \"\"\"\n",
        "    plt.figure(figsize=(7,7))\n",
        "    tick_marks = np.arange(len(classes))\n",
        "    plt.xticks(tick_marks, classes, rotation=45, fontsize=18)\n",
        "    plt.yticks(tick_marks, classes, fontsize=18)\n",
        "    if normalize:\n",
        "        cm = cm.astype('float') / cm.sum(axis=1)[:, np.newaxis]\n",
        "    print(cm)\n",
        "    thresh = cm.max() / 2.\n",
        "    for i, j in itertools.product(range(cm.shape[0]), range(cm.shape[1])):\n",
        "        if normalize:\n",
        "            plt.text(j, i, '%.2f' % cm[i, j], horizontalalignment=\"center\",\n",
        "                     color=\"white\" if cm[i, j] > thresh else \"black\",\n",
        "                     fontsize=16)\n",
        "        else:\n",
        "            plt.text(j, i, cm[i, j], horizontalalignment=\"center\",\n",
        "                     color=\"white\" if cm[i, j] > thresh else \"black\",\n",
        "                     fontsize=16)\n",
        "    plt.tight_layout()\n",
        "    plt.imshow(cm, interpolation='nearest', cmap=cmap)\n",
        "    if title is not None:\n",
        "        plt.title(title)\n",
        "    if figname is None:\n",
        "        plt.show()\n",
        "    else:\n",
        "        plt.savefig(figname)\n",
        "        plt.close()"
      ],
      "execution_count": 0,
      "outputs": []
    },
    {
      "cell_type": "code",
      "metadata": {
        "id": "KB8akEFnXQ34",
        "colab_type": "code",
        "colab": {}
      },
      "source": [
        "def plot_stats(y_true, y_pred, n_class=2):\n",
        "    col = sns.color_palette()\n",
        "\n",
        "    fig, axarr = plt.subplots(n_class, n_class, sharex=True, figsize=(10,10))\n",
        "    for i_true in range(n_class):\n",
        "        v = y_pred[y_true == i_true]\n",
        "        for j_pred in range(n_class):\n",
        "            axarr[i_true, j_pred].hist(v[:, j_pred], 10, normed=False, color=col[i_true])\n",
        "            axarr[i_true, j_pred].set_title('class=%d, prediction=%d' % (i_true, j_pred))\n",
        "    plt.setp([a.get_xticklabels() for a in axarr[0, :]], visible=False)\n",
        "    plt.tight_layout()\n",
        "    plt.show()"
      ],
      "execution_count": 0,
      "outputs": []
    },
    {
      "cell_type": "code",
      "metadata": {
        "id": "psaVnL_qXS_x",
        "colab_type": "code",
        "colab": {}
      },
      "source": [
        "def get_filenames_and_classes(csv_path):\n",
        "    df = pd.read_csv(csv_path, sep='\\t', index_col=0)\n",
        "    filenames, classes = [], []\n",
        "    for base_name, primary_grade, sec_grade in zip(df.index, df.iloc[:,0], df.iloc[:,1]):\n",
        "        primary_grade, sec_grade = int(primary_grade), int(sec_grade)\n",
        "        filenames.append(base_name)\n",
        "        classes.append(np.array([primary_grade, sec_grade]).reshape(1,2))\n",
        "    classes = np.vstack(classes)\n",
        "    return filenames, classes"
      ],
      "execution_count": 0,
      "outputs": []
    },
    {
      "cell_type": "code",
      "metadata": {
        "id": "CCsqWTuZXU-x",
        "colab_type": "code",
        "colab": {}
      },
      "source": [
        "init_dim = 250\n",
        "target_dim = 224\n",
        "target_size = (target_dim, target_dim)\n",
        "input_shape = (target_size[0], target_size[1], 3)\n",
        "bs = 16\n",
        "\n",
        "# classes\n",
        "class_labels = ['Gleason 3','Gleason 3']\n",
        "n_class = len(class_labels)\n",
        "#change this for your path\n",
        "prefix = '/home/fabianleon/Documentos/gleason_CNN-master/dataset'\n",
        "patch_dir = os.path.join(prefix, 'train_validation_patches_750')"
      ],
      "execution_count": 0,
      "outputs": []
    },
    {
      "cell_type": "code",
      "metadata": {
        "id": "h_950MMaXbne",
        "colab_type": "code",
        "colab": {}
      },
      "source": [
        "tma = 'ZT76'\n",
        "csv_path = os.path.join(prefix, 'tma_info', '%s_gleason_scores.csv' % tma)\n",
        "val_filenames, val_classes = get_filenames_and_classes(csv_path)\n",
        "print('Total TMAs in validation set: %d' % len(val_filenames))"
      ],
      "execution_count": 0,
      "outputs": []
    },
    {
      "cell_type": "code",
      "metadata": {
        "id": "ZrJcEZdGXemK",
        "colab_type": "code",
        "colab": {}
      },
      "source": [
        "# load model\n",
        "# chang this for your path\n",
        "model_weights = '/home/fabianleon/Documentos/gleason_CNN-master/model_weights/class1y2incep/model_01.h5'\n",
        "with CustomObjectScope({'relu6': keras.layers.ReLU(6.),'DepthwiseConv2D': keras.layers.DepthwiseConv2D}):\n",
        "    model = load_model(model_weights)"
      ],
      "execution_count": 0,
      "outputs": []
    },
    {
      "cell_type": "code",
      "metadata": {
        "id": "uCP913VcX24g",
        "colab_type": "code",
        "colab": {}
      },
      "source": [
        "# test filenames\n",
        "# change this for patho_1 or patho_2\n",
        "test_patch_dir = os.path.join(prefix, 'test_patches_750', 'patho_1')\n",
        "test_filenames = [f for f in os.listdir(test_patch_dir) if f.startswith('ZT80')]\n",
        "len(test_filenames)"
      ],
      "execution_count": 0,
      "outputs": []
    },
    {
      "cell_type": "code",
      "metadata": {
        "id": "adRaSfrbYDCa",
        "colab_type": "code",
        "colab": {}
      },
      "source": [
        "patches_csv_path = os.path.join(prefix, 'tma_info', 'ZT80_patch_grades.csv')\n",
        "df_patch = pd.read_csv(patches_csv_path, sep='\\t', index_col=0)\n",
        "true_grades = df_patch.values\n",
        "test_patch_labels = []\n",
        "test_patch_names = []\n",
        "# make predictions on test cohort patches\n",
        "# change df_patch.iloc[:,0]  0 for pathologist 1 and 1 for pathologist 2\n",
        "for i, (patch_name, y_true) in enumerate(zip(df_patch.index, df_patch.iloc[:,0])):\n",
        "    if((y_true == 0) | (y_true == 1)):\n",
        "        spot_name = patch_name.split('_patch_')[0]\n",
        "        full_name = os.path.join(test_patch_dir, spot_name, patch_name+'_class_%d.jpg' % y_true)\n",
        "        test_patch_labels.append(y_true)\n",
        "        test_patch_names.append(full_name)\n",
        "\n",
        "y_pred_prob = np.zeros((len(test_patch_names), 2))\n",
        "for i, patch_name in enumerate(test_patch_names):\n",
        "    img = image.load_img(patch_name, grayscale=False, target_size=(224, 224))\n",
        "    X = image.img_to_array(img)\n",
        "    y_pred_prob[i] = model.predict(X[np.newaxis,:,:,:], batch_size=1)[0]\n",
        "y_pred = np.argmax(y_pred_prob, axis=1)\n",
        "y_true = np.array(test_patch_labels)"
      ],
      "execution_count": 0,
      "outputs": []
    },
    {
      "cell_type": "code",
      "metadata": {
        "id": "h3cQia00YTVq",
        "colab_type": "code",
        "colab": {}
      },
      "source": [
        "y_true[y_true ==1] = 0\n",
        "y_true[y_true ==2] = 1"
      ],
      "execution_count": 0,
      "outputs": []
    },
    {
      "cell_type": "code",
      "metadata": {
        "id": "eR4VVE5OYXdU",
        "colab_type": "code",
        "colab": {}
      },
      "source": [
        "# compute confusion matrix for test set - CNN vs pathologist's annotations\n",
        "cm = confusion_matrix(y_true, y_pred)\n",
        "plot_confusion_matrix(cm, class_labels, figname=None, normalize=True, cmap=plt.cm.BuGn)\n",
        "kappa_p1 = cohen_kappa_score(y_true, y_pred, weights='quadratic')\n",
        "print('\\033[1m' + '\\t\\t\\tk = ' + ('%.2f' % kappa_p1))  "
      ],
      "execution_count": 0,
      "outputs": []
    }
  ]
}